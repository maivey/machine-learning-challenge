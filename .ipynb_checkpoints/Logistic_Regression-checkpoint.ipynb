{
 "cells": [
  {
   "cell_type": "code",
   "execution_count": 1,
   "metadata": {},
   "outputs": [],
   "source": [
    "import pandas as pd\n",
    "import numpy as np\n",
    "import matplotlib.pyplot as plt"
   ]
  },
  {
   "cell_type": "markdown",
   "metadata": {},
   "source": [
    "### Read the CSV and Perform Basic Data Cleaning"
   ]
  },
  {
   "cell_type": "code",
   "execution_count": 4,
   "metadata": {},
   "outputs": [
    {
     "data": {
      "text/html": [
       "<div>\n",
       "<style scoped>\n",
       "    .dataframe tbody tr th:only-of-type {\n",
       "        vertical-align: middle;\n",
       "    }\n",
       "\n",
       "    .dataframe tbody tr th {\n",
       "        vertical-align: top;\n",
       "    }\n",
       "\n",
       "    .dataframe thead th {\n",
       "        text-align: right;\n",
       "    }\n",
       "</style>\n",
       "<table border=\"1\" class=\"dataframe\">\n",
       "  <thead>\n",
       "    <tr style=\"text-align: right;\">\n",
       "      <th></th>\n",
       "      <th>koi_disposition</th>\n",
       "      <th>koi_fpflag_nt</th>\n",
       "      <th>koi_fpflag_ss</th>\n",
       "      <th>koi_fpflag_co</th>\n",
       "      <th>koi_fpflag_ec</th>\n",
       "      <th>koi_period</th>\n",
       "      <th>koi_period_err1</th>\n",
       "      <th>koi_period_err2</th>\n",
       "      <th>koi_time0bk</th>\n",
       "      <th>koi_time0bk_err1</th>\n",
       "      <th>...</th>\n",
       "      <th>koi_steff_err2</th>\n",
       "      <th>koi_slogg</th>\n",
       "      <th>koi_slogg_err1</th>\n",
       "      <th>koi_slogg_err2</th>\n",
       "      <th>koi_srad</th>\n",
       "      <th>koi_srad_err1</th>\n",
       "      <th>koi_srad_err2</th>\n",
       "      <th>ra</th>\n",
       "      <th>dec</th>\n",
       "      <th>koi_kepmag</th>\n",
       "    </tr>\n",
       "  </thead>\n",
       "  <tbody>\n",
       "    <tr>\n",
       "      <th>0</th>\n",
       "      <td>CONFIRMED</td>\n",
       "      <td>0</td>\n",
       "      <td>0</td>\n",
       "      <td>0</td>\n",
       "      <td>0</td>\n",
       "      <td>54.418383</td>\n",
       "      <td>2.479000e-04</td>\n",
       "      <td>-2.479000e-04</td>\n",
       "      <td>162.513840</td>\n",
       "      <td>0.003520</td>\n",
       "      <td>...</td>\n",
       "      <td>-81</td>\n",
       "      <td>4.467</td>\n",
       "      <td>0.064</td>\n",
       "      <td>-0.096</td>\n",
       "      <td>0.927</td>\n",
       "      <td>0.105</td>\n",
       "      <td>-0.061</td>\n",
       "      <td>291.93423</td>\n",
       "      <td>48.141651</td>\n",
       "      <td>15.347</td>\n",
       "    </tr>\n",
       "    <tr>\n",
       "      <th>1</th>\n",
       "      <td>FALSE POSITIVE</td>\n",
       "      <td>0</td>\n",
       "      <td>1</td>\n",
       "      <td>0</td>\n",
       "      <td>0</td>\n",
       "      <td>19.899140</td>\n",
       "      <td>1.490000e-05</td>\n",
       "      <td>-1.490000e-05</td>\n",
       "      <td>175.850252</td>\n",
       "      <td>0.000581</td>\n",
       "      <td>...</td>\n",
       "      <td>-176</td>\n",
       "      <td>4.544</td>\n",
       "      <td>0.044</td>\n",
       "      <td>-0.176</td>\n",
       "      <td>0.868</td>\n",
       "      <td>0.233</td>\n",
       "      <td>-0.078</td>\n",
       "      <td>297.00482</td>\n",
       "      <td>48.134129</td>\n",
       "      <td>15.436</td>\n",
       "    </tr>\n",
       "    <tr>\n",
       "      <th>2</th>\n",
       "      <td>FALSE POSITIVE</td>\n",
       "      <td>0</td>\n",
       "      <td>1</td>\n",
       "      <td>0</td>\n",
       "      <td>0</td>\n",
       "      <td>1.736952</td>\n",
       "      <td>2.630000e-07</td>\n",
       "      <td>-2.630000e-07</td>\n",
       "      <td>170.307565</td>\n",
       "      <td>0.000115</td>\n",
       "      <td>...</td>\n",
       "      <td>-174</td>\n",
       "      <td>4.564</td>\n",
       "      <td>0.053</td>\n",
       "      <td>-0.168</td>\n",
       "      <td>0.791</td>\n",
       "      <td>0.201</td>\n",
       "      <td>-0.067</td>\n",
       "      <td>285.53461</td>\n",
       "      <td>48.285210</td>\n",
       "      <td>15.597</td>\n",
       "    </tr>\n",
       "    <tr>\n",
       "      <th>3</th>\n",
       "      <td>CONFIRMED</td>\n",
       "      <td>0</td>\n",
       "      <td>0</td>\n",
       "      <td>0</td>\n",
       "      <td>0</td>\n",
       "      <td>2.525592</td>\n",
       "      <td>3.760000e-06</td>\n",
       "      <td>-3.760000e-06</td>\n",
       "      <td>171.595550</td>\n",
       "      <td>0.001130</td>\n",
       "      <td>...</td>\n",
       "      <td>-211</td>\n",
       "      <td>4.438</td>\n",
       "      <td>0.070</td>\n",
       "      <td>-0.210</td>\n",
       "      <td>1.046</td>\n",
       "      <td>0.334</td>\n",
       "      <td>-0.133</td>\n",
       "      <td>288.75488</td>\n",
       "      <td>48.226200</td>\n",
       "      <td>15.509</td>\n",
       "    </tr>\n",
       "    <tr>\n",
       "      <th>4</th>\n",
       "      <td>CONFIRMED</td>\n",
       "      <td>0</td>\n",
       "      <td>0</td>\n",
       "      <td>0</td>\n",
       "      <td>0</td>\n",
       "      <td>4.134435</td>\n",
       "      <td>1.050000e-05</td>\n",
       "      <td>-1.050000e-05</td>\n",
       "      <td>172.979370</td>\n",
       "      <td>0.001900</td>\n",
       "      <td>...</td>\n",
       "      <td>-232</td>\n",
       "      <td>4.486</td>\n",
       "      <td>0.054</td>\n",
       "      <td>-0.229</td>\n",
       "      <td>0.972</td>\n",
       "      <td>0.315</td>\n",
       "      <td>-0.105</td>\n",
       "      <td>296.28613</td>\n",
       "      <td>48.224670</td>\n",
       "      <td>15.714</td>\n",
       "    </tr>\n",
       "  </tbody>\n",
       "</table>\n",
       "<p>5 rows × 41 columns</p>\n",
       "</div>"
      ],
      "text/plain": [
       "  koi_disposition  koi_fpflag_nt  koi_fpflag_ss  koi_fpflag_co  koi_fpflag_ec  \\\n",
       "0       CONFIRMED              0              0              0              0   \n",
       "1  FALSE POSITIVE              0              1              0              0   \n",
       "2  FALSE POSITIVE              0              1              0              0   \n",
       "3       CONFIRMED              0              0              0              0   \n",
       "4       CONFIRMED              0              0              0              0   \n",
       "\n",
       "   koi_period  koi_period_err1  koi_period_err2  koi_time0bk  \\\n",
       "0   54.418383     2.479000e-04    -2.479000e-04   162.513840   \n",
       "1   19.899140     1.490000e-05    -1.490000e-05   175.850252   \n",
       "2    1.736952     2.630000e-07    -2.630000e-07   170.307565   \n",
       "3    2.525592     3.760000e-06    -3.760000e-06   171.595550   \n",
       "4    4.134435     1.050000e-05    -1.050000e-05   172.979370   \n",
       "\n",
       "   koi_time0bk_err1  ...  koi_steff_err2  koi_slogg  koi_slogg_err1  \\\n",
       "0          0.003520  ...             -81      4.467           0.064   \n",
       "1          0.000581  ...            -176      4.544           0.044   \n",
       "2          0.000115  ...            -174      4.564           0.053   \n",
       "3          0.001130  ...            -211      4.438           0.070   \n",
       "4          0.001900  ...            -232      4.486           0.054   \n",
       "\n",
       "   koi_slogg_err2  koi_srad  koi_srad_err1  koi_srad_err2         ra  \\\n",
       "0          -0.096     0.927          0.105         -0.061  291.93423   \n",
       "1          -0.176     0.868          0.233         -0.078  297.00482   \n",
       "2          -0.168     0.791          0.201         -0.067  285.53461   \n",
       "3          -0.210     1.046          0.334         -0.133  288.75488   \n",
       "4          -0.229     0.972          0.315         -0.105  296.28613   \n",
       "\n",
       "         dec  koi_kepmag  \n",
       "0  48.141651      15.347  \n",
       "1  48.134129      15.436  \n",
       "2  48.285210      15.597  \n",
       "3  48.226200      15.509  \n",
       "4  48.224670      15.714  \n",
       "\n",
       "[5 rows x 41 columns]"
      ]
     },
     "execution_count": 4,
     "metadata": {},
     "output_type": "execute_result"
    }
   ],
   "source": [
    "df = pd.read_csv(\"exoplanet_data.csv\")\n",
    "# Drop the null columns where all values are null\n",
    "df = df.dropna(axis='columns', how='all')\n",
    "# Drop the null rows\n",
    "df = df.dropna()\n",
    "df.head()"
   ]
  },
  {
   "cell_type": "markdown",
   "metadata": {},
   "source": [
    "### Select features (X) and y"
   ]
  },
  {
   "cell_type": "code",
   "execution_count": 5,
   "metadata": {},
   "outputs": [],
   "source": [
    "X = df.drop(\"koi_disposition\",axis=1)\n",
    "y = df['koi_disposition']"
   ]
  },
  {
   "cell_type": "markdown",
   "metadata": {},
   "source": [
    "### Create a Train Test Split"
   ]
  },
  {
   "cell_type": "code",
   "execution_count": 6,
   "metadata": {},
   "outputs": [],
   "source": [
    "from sklearn.model_selection import train_test_split\n",
    "X_train, X_test, y_train, y_test = train_test_split(X, y, \n",
    "                                                    random_state=1, \n",
    "                                                    stratify=y)"
   ]
  },
  {
   "cell_type": "markdown",
   "metadata": {},
   "source": [
    "### Pre-Processing\n",
    "\n",
    "Scale the data using the MinMaxScaler and perform some feature selection"
   ]
  },
  {
   "cell_type": "code",
   "execution_count": 7,
   "metadata": {},
   "outputs": [
    {
     "name": "stderr",
     "output_type": "stream",
     "text": [
      "/Users/morganivey/anaconda3/lib/python3.7/site-packages/sklearn/preprocessing/data.py:334: DataConversionWarning: Data with input dtype int64, float64 were all converted to float64 by MinMaxScaler.\n",
      "  return self.partial_fit(X, y)\n"
     ]
    }
   ],
   "source": [
    "# Scale your data\n",
    "from sklearn.preprocessing import MinMaxScaler\n",
    "X_scaler = MinMaxScaler().fit(X_train)\n",
    "X_train_scaled = X_scaler.transform(X_train)\n",
    "X_test_scaled = X_scaler.transform(X_test)"
   ]
  },
  {
   "cell_type": "markdown",
   "metadata": {},
   "source": [
    "### Train the Model"
   ]
  },
  {
   "cell_type": "code",
   "execution_count": 8,
   "metadata": {},
   "outputs": [
    {
     "data": {
      "text/plain": [
       "LogisticRegression(C=1.0, class_weight=None, dual=False, fit_intercept=True,\n",
       "          intercept_scaling=1, max_iter=500, multi_class='auto',\n",
       "          n_jobs=None, penalty='l2', random_state=None, solver='lbfgs',\n",
       "          tol=0.0001, verbose=0, warm_start=False)"
      ]
     },
     "execution_count": 8,
     "metadata": {},
     "output_type": "execute_result"
    }
   ],
   "source": [
    "# Create a logistic regression model\n",
    "from sklearn.linear_model import LogisticRegression\n",
    "model = LogisticRegression(multi_class='auto', solver='lbfgs', max_iter=500)\n",
    "model"
   ]
  },
  {
   "cell_type": "code",
   "execution_count": 9,
   "metadata": {},
   "outputs": [
    {
     "data": {
      "text/plain": [
       "LogisticRegression(C=1.0, class_weight=None, dual=False, fit_intercept=True,\n",
       "          intercept_scaling=1, max_iter=500, multi_class='auto',\n",
       "          n_jobs=None, penalty='l2', random_state=None, solver='lbfgs',\n",
       "          tol=0.0001, verbose=0, warm_start=False)"
      ]
     },
     "execution_count": 9,
     "metadata": {},
     "output_type": "execute_result"
    }
   ],
   "source": [
    "model.fit(X_train_scaled,y_train)"
   ]
  },
  {
   "cell_type": "code",
   "execution_count": 10,
   "metadata": {},
   "outputs": [
    {
     "name": "stdout",
     "output_type": "stream",
     "text": [
      "Training Data Score: 0.8502765592218196\n",
      "Testing Data Score: 0.8506864988558352\n"
     ]
    }
   ],
   "source": [
    "# Score the original model\n",
    "original_model_train_score = model.score(X_train_scaled, y_train)\n",
    "original_model_test_score = model.score(X_test_scaled, y_test)\n",
    "\n",
    "#Print the original model training and testing scores\n",
    "print(f\"Training Data Score: {original_model_train_score}\")\n",
    "print(f\"Testing Data Score: {original_model_test_score}\")"
   ]
  },
  {
   "cell_type": "code",
   "execution_count": 11,
   "metadata": {},
   "outputs": [
    {
     "name": "stdout",
     "output_type": "stream",
     "text": [
      "                precision    recall  f1-score   support\n",
      "\n",
      "     CANDIDATE       0.76      0.61      0.68       422\n",
      "     CONFIRMED       0.69      0.79      0.74       450\n",
      "FALSE POSITIVE       0.98      1.00      0.99       876\n",
      "\n",
      "     micro avg       0.85      0.85      0.85      1748\n",
      "     macro avg       0.81      0.80      0.80      1748\n",
      "  weighted avg       0.85      0.85      0.85      1748\n",
      "\n"
     ]
    }
   ],
   "source": [
    "# Create predicition and classification report for original model\n",
    "from sklearn.metrics import classification_report\n",
    "prediction = model.predict(X_test_scaled)\n",
    "original_classification_report = classification_report(y_test,prediction,\n",
    "                            target_names=['CANDIDATE','CONFIRMED','FALSE POSITIVE'])\n",
    "print(original_classification_report)"
   ]
  },
  {
   "cell_type": "code",
   "execution_count": 12,
   "metadata": {},
   "outputs": [
    {
     "name": "stdout",
     "output_type": "stream",
     "text": [
      "Number of Important Features : 5 \n",
      "Training Data Score: 0.819568949074957\n",
      "Testing Data Score: 0.8289473684210527\n",
      "                precision    recall  f1-score   support\n",
      "\n",
      "     CANDIDATE       0.87      0.42      0.57       422\n",
      "     CONFIRMED       0.62      0.92      0.74       450\n",
      "FALSE POSITIVE       0.98      0.98      0.98       876\n",
      "\n",
      "     micro avg       0.83      0.83      0.83      1748\n",
      "     macro avg       0.82      0.77      0.76      1748\n",
      "  weighted avg       0.86      0.83      0.82      1748\n",
      "\n",
      "==============================================\n",
      "Number of Important Features : 10 \n",
      "Training Data Score: 0.8411214953271028\n",
      "Testing Data Score: 0.8312356979405034\n",
      "                precision    recall  f1-score   support\n",
      "\n",
      "     CANDIDATE       0.71      0.57      0.63       422\n",
      "     CONFIRMED       0.66      0.76      0.70       450\n",
      "FALSE POSITIVE       0.98      1.00      0.99       876\n",
      "\n",
      "     micro avg       0.83      0.83      0.83      1748\n",
      "     macro avg       0.78      0.77      0.77      1748\n",
      "  weighted avg       0.83      0.83      0.83      1748\n",
      "\n",
      "==============================================\n",
      "Number of Important Features : 15 \n",
      "Training Data Score: 0.8512302117108526\n",
      "Testing Data Score: 0.847254004576659\n",
      "                precision    recall  f1-score   support\n",
      "\n",
      "     CANDIDATE       0.76      0.59      0.66       422\n",
      "     CONFIRMED       0.68      0.80      0.73       450\n",
      "FALSE POSITIVE       0.98      1.00      0.99       876\n",
      "\n",
      "     micro avg       0.85      0.85      0.85      1748\n",
      "     macro avg       0.81      0.79      0.80      1748\n",
      "  weighted avg       0.85      0.85      0.84      1748\n",
      "\n",
      "==============================================\n",
      "Number of Important Features : 20 \n",
      "Training Data Score: 0.845317566278848\n",
      "Testing Data Score: 0.8501144164759725\n",
      "                precision    recall  f1-score   support\n",
      "\n",
      "     CANDIDATE       0.76      0.61      0.67       422\n",
      "     CONFIRMED       0.69      0.79      0.74       450\n",
      "FALSE POSITIVE       0.98      1.00      0.99       876\n",
      "\n",
      "     micro avg       0.85      0.85      0.85      1748\n",
      "     macro avg       0.81      0.80      0.80      1748\n",
      "  weighted avg       0.85      0.85      0.85      1748\n",
      "\n",
      "==============================================\n",
      "Number of Important Features : 25 \n",
      "Training Data Score: 0.8495136372305931\n",
      "Testing Data Score: 0.851258581235698\n",
      "                precision    recall  f1-score   support\n",
      "\n",
      "     CANDIDATE       0.76      0.61      0.68       422\n",
      "     CONFIRMED       0.69      0.79      0.74       450\n",
      "FALSE POSITIVE       0.98      1.00      0.99       876\n",
      "\n",
      "     micro avg       0.85      0.85      0.85      1748\n",
      "     macro avg       0.81      0.80      0.80      1748\n",
      "  weighted avg       0.85      0.85      0.85      1748\n",
      "\n",
      "==============================================\n",
      "Number of Important Features : 30 \n",
      "Training Data Score: 0.8506580202174328\n",
      "Testing Data Score: 0.8506864988558352\n",
      "                precision    recall  f1-score   support\n",
      "\n",
      "     CANDIDATE       0.76      0.61      0.68       422\n",
      "     CONFIRMED       0.69      0.79      0.74       450\n",
      "FALSE POSITIVE       0.98      1.00      0.99       876\n",
      "\n",
      "     micro avg       0.85      0.85      0.85      1748\n",
      "     macro avg       0.81      0.80      0.80      1748\n",
      "  weighted avg       0.85      0.85      0.85      1748\n",
      "\n",
      "==============================================\n",
      "The highest train score is 0.8512302117108526 with 15 features\n",
      "The highest test score is 0.851258581235698 with 25 features\n",
      "==============================================\n",
      "The best model to be used has 25 features:\n",
      "Training Data Score: 0.8495136372305931\n",
      "Testing Data Score: 0.851258581235698\n",
      "                precision    recall  f1-score   support\n",
      "\n",
      "     CANDIDATE       0.76      0.61      0.68       422\n",
      "     CONFIRMED       0.69      0.79      0.74       450\n",
      "FALSE POSITIVE       0.98      1.00      0.99       876\n",
      "\n",
      "     micro avg       0.85      0.85      0.85      1748\n",
      "     macro avg       0.81      0.80      0.80      1748\n",
      "  weighted avg       0.85      0.85      0.85      1748\n",
      "\n",
      "==============================================\n"
     ]
    }
   ],
   "source": [
    "from sklearn.feature_selection import RFE\n",
    "num_features = len(X_train.columns) #40 total\n",
    "num_top_features_list = [5,10,15,20,25,30]\n",
    "top_train_score = 0\n",
    "top_test_score = 0\n",
    "for num_top_features in num_top_features_list:\n",
    "\n",
    "    rfe = RFE(estimator=model, n_features_to_select=num_top_features,step=1)\n",
    "    rfe.fit(X_train_scaled,y_train)\n",
    "\n",
    "\n",
    "    ranks=rfe.ranking_\n",
    "    n_features=num_top_features\n",
    "    feature_indexes=[]\n",
    "    for i in range(0,len(ranks)):\n",
    "        if ranks[i]==1:\n",
    "            feature_indexes+=[i]\n",
    "    X_train_new = rfe.transform(X_train_scaled)\n",
    "    X_test_new = rfe.transform(X_test_scaled)\n",
    "\n",
    "    model_rfe = LogisticRegression(multi_class='auto', solver='lbfgs', max_iter=500)\n",
    "\n",
    "    model_rfe.fit(X_train_new,y_train)\n",
    "    print(f'Number of Important Features : {num_top_features} ')\n",
    "    train_score = model_rfe.score(X_train_new, y_train)\n",
    "    test_score = model_rfe.score(X_test_new, y_test)\n",
    "    print(f\"Training Data Score: {train_score}\")\n",
    "    print(f\"Testing Data Score: {test_score}\")\n",
    "    if train_score > top_train_score:\n",
    "        top_train_score = train_score\n",
    "        top_num_features_train = num_top_features\n",
    "    if test_score > top_test_score:\n",
    "        top_test_score = test_score\n",
    "        top_num_features_test = num_top_features\n",
    "    prediction_rfe = model_rfe.predict(X_test_new)\n",
    "    print(classification_report(y_test,prediction_rfe,\n",
    "                                target_names=['CANDIDATE','CONFIRMED','FALSE POSITIVE']))\n",
    "    print('==============================================')\n",
    "    \n",
    "print(f'The highest train score is {top_train_score} with {top_num_features_train} features')\n",
    "print(f'The highest test score is {top_test_score} with {top_num_features_test} features')\n",
    "\n",
    "#Best Model:\n",
    "rfe = RFE(estimator=model, n_features_to_select=top_num_features_test,step=1)\n",
    "rfe.fit(X_train_scaled,y_train)\n",
    "\n",
    "\n",
    "ranks=rfe.ranking_\n",
    "n_features=top_num_features_test\n",
    "feature_indexes=[]\n",
    "for i in range(0,len(ranks)):\n",
    "    if ranks[i]==1:\n",
    "        feature_indexes+=[i]\n",
    "X_train_new = rfe.transform(X_train_scaled)\n",
    "X_test_new = rfe.transform(X_test_scaled)\n",
    "\n",
    "\n",
    "model_rfe = LogisticRegression(multi_class='auto', solver='lbfgs', max_iter=500)\n",
    "model_rfe.fit(X_train_new,y_train)\n",
    "train_score = model_rfe.score(X_train_new, y_train)\n",
    "test_score = model_rfe.score(X_test_new, y_test)\n",
    "print('==============================================')\n",
    "print(f'The best model to be used has {top_num_features_test} features:')\n",
    "print(f\"Training Data Score: {train_score}\")\n",
    "print(f\"Testing Data Score: {test_score}\")\n",
    "prediction_rfe = model_rfe.predict(X_test_new)\n",
    "print(classification_report(y_test,prediction_rfe,\n",
    "                            target_names=['CANDIDATE','CONFIRMED','FALSE POSITIVE']))\n",
    "print('==============================================')"
   ]
  },
  {
   "cell_type": "markdown",
   "metadata": {},
   "source": [
    "### Hyperparameter Tuning using GridSearchCV"
   ]
  },
  {
   "cell_type": "code",
   "execution_count": 13,
   "metadata": {},
   "outputs": [],
   "source": [
    "# Create the GridSearchCV model\n",
    "from sklearn.model_selection import GridSearchCV\n",
    "params_grid = {'C': [1, 5, 10],\n",
    "              'max_iter': [500, 1000, 5000]\n",
    "              }\n",
    "grid = GridSearchCV(model, params_grid, verbose=2)"
   ]
  },
  {
   "cell_type": "code",
   "execution_count": 14,
   "metadata": {},
   "outputs": [
    {
     "name": "stderr",
     "output_type": "stream",
     "text": [
      "/Users/morganivey/anaconda3/lib/python3.7/site-packages/sklearn/model_selection/_split.py:2053: FutureWarning: You should specify a value for 'cv' instead of relying on the default value. The default value will change from 3 to 5 in version 0.22.\n",
      "  warnings.warn(CV_WARNING, FutureWarning)\n",
      "[Parallel(n_jobs=1)]: Using backend SequentialBackend with 1 concurrent workers.\n"
     ]
    },
    {
     "name": "stdout",
     "output_type": "stream",
     "text": [
      "Fitting 3 folds for each of 9 candidates, totalling 27 fits\n",
      "[CV] C=1, max_iter=500 ...............................................\n",
      "[CV] ................................ C=1, max_iter=500, total=   0.3s\n",
      "[CV] C=1, max_iter=500 ...............................................\n"
     ]
    },
    {
     "name": "stderr",
     "output_type": "stream",
     "text": [
      "[Parallel(n_jobs=1)]: Done   1 out of   1 | elapsed:    0.3s remaining:    0.0s\n"
     ]
    },
    {
     "name": "stdout",
     "output_type": "stream",
     "text": [
      "[CV] ................................ C=1, max_iter=500, total=   0.3s\n",
      "[CV] C=1, max_iter=500 ...............................................\n",
      "[CV] ................................ C=1, max_iter=500, total=   0.2s\n",
      "[CV] C=1, max_iter=1000 ..............................................\n",
      "[CV] ............................... C=1, max_iter=1000, total=   0.2s\n",
      "[CV] C=1, max_iter=1000 ..............................................\n",
      "[CV] ............................... C=1, max_iter=1000, total=   0.4s\n",
      "[CV] C=1, max_iter=1000 ..............................................\n",
      "[CV] ............................... C=1, max_iter=1000, total=   0.4s\n",
      "[CV] C=1, max_iter=5000 ..............................................\n",
      "[CV] ............................... C=1, max_iter=5000, total=   0.2s\n",
      "[CV] C=1, max_iter=5000 ..............................................\n",
      "[CV] ............................... C=1, max_iter=5000, total=   0.2s\n",
      "[CV] C=1, max_iter=5000 ..............................................\n",
      "[CV] ............................... C=1, max_iter=5000, total=   0.2s\n",
      "[CV] C=5, max_iter=500 ...............................................\n",
      "[CV] ................................ C=5, max_iter=500, total=   0.6s\n",
      "[CV] C=5, max_iter=500 ...............................................\n",
      "[CV] ................................ C=5, max_iter=500, total=   0.7s\n",
      "[CV] C=5, max_iter=500 ...............................................\n",
      "[CV] ................................ C=5, max_iter=500, total=   0.9s\n",
      "[CV] C=5, max_iter=1000 ..............................................\n",
      "[CV] ............................... C=5, max_iter=1000, total=   0.7s\n",
      "[CV] C=5, max_iter=1000 ..............................................\n",
      "[CV] ............................... C=5, max_iter=1000, total=   0.5s\n",
      "[CV] C=5, max_iter=1000 ..............................................\n",
      "[CV] ............................... C=5, max_iter=1000, total=   0.7s\n",
      "[CV] C=5, max_iter=5000 ..............................................\n",
      "[CV] ............................... C=5, max_iter=5000, total=   1.2s\n",
      "[CV] C=5, max_iter=5000 ..............................................\n",
      "[CV] ............................... C=5, max_iter=5000, total=   0.6s\n",
      "[CV] C=5, max_iter=5000 ..............................................\n",
      "[CV] ............................... C=5, max_iter=5000, total=   0.8s\n",
      "[CV] C=10, max_iter=500 ..............................................\n"
     ]
    },
    {
     "name": "stderr",
     "output_type": "stream",
     "text": [
      "/Users/morganivey/anaconda3/lib/python3.7/site-packages/sklearn/linear_model/logistic.py:758: ConvergenceWarning: lbfgs failed to converge. Increase the number of iterations.\n",
      "  \"of iterations.\", ConvergenceWarning)\n"
     ]
    },
    {
     "name": "stdout",
     "output_type": "stream",
     "text": [
      "[CV] ............................... C=10, max_iter=500, total=   1.1s\n",
      "[CV] C=10, max_iter=500 ..............................................\n"
     ]
    },
    {
     "name": "stderr",
     "output_type": "stream",
     "text": [
      "/Users/morganivey/anaconda3/lib/python3.7/site-packages/sklearn/linear_model/logistic.py:758: ConvergenceWarning: lbfgs failed to converge. Increase the number of iterations.\n",
      "  \"of iterations.\", ConvergenceWarning)\n"
     ]
    },
    {
     "name": "stdout",
     "output_type": "stream",
     "text": [
      "[CV] ............................... C=10, max_iter=500, total=   0.9s\n",
      "[CV] C=10, max_iter=500 ..............................................\n",
      "[CV] ............................... C=10, max_iter=500, total=   0.6s\n",
      "[CV] C=10, max_iter=1000 .............................................\n",
      "[CV] .............................. C=10, max_iter=1000, total=   0.8s\n",
      "[CV] C=10, max_iter=1000 .............................................\n",
      "[CV] .............................. C=10, max_iter=1000, total=   0.7s\n",
      "[CV] C=10, max_iter=1000 .............................................\n",
      "[CV] .............................. C=10, max_iter=1000, total=   0.6s\n",
      "[CV] C=10, max_iter=5000 .............................................\n",
      "[CV] .............................. C=10, max_iter=5000, total=   0.6s\n",
      "[CV] C=10, max_iter=5000 .............................................\n",
      "[CV] .............................. C=10, max_iter=5000, total=   0.7s\n",
      "[CV] C=10, max_iter=5000 .............................................\n",
      "[CV] .............................. C=10, max_iter=5000, total=   0.6s\n"
     ]
    },
    {
     "name": "stderr",
     "output_type": "stream",
     "text": [
      "[Parallel(n_jobs=1)]: Done  27 out of  27 | elapsed:   15.8s finished\n"
     ]
    },
    {
     "data": {
      "text/plain": [
       "GridSearchCV(cv='warn', error_score='raise-deprecating',\n",
       "       estimator=LogisticRegression(C=1.0, class_weight=None, dual=False, fit_intercept=True,\n",
       "          intercept_scaling=1, max_iter=500, multi_class='auto',\n",
       "          n_jobs=None, penalty='l2', random_state=None, solver='lbfgs',\n",
       "          tol=0.0001, verbose=0, warm_start=False),\n",
       "       fit_params=None, iid='warn', n_jobs=None,\n",
       "       param_grid={'C': [1, 5, 10], 'max_iter': [500, 1000, 5000]},\n",
       "       pre_dispatch='2*n_jobs', refit=True, return_train_score='warn',\n",
       "       scoring=None, verbose=2)"
      ]
     },
     "execution_count": 14,
     "metadata": {},
     "output_type": "execute_result"
    }
   ],
   "source": [
    "grid.fit(X_train_new,y_train)"
   ]
  },
  {
   "cell_type": "code",
   "execution_count": 22,
   "metadata": {},
   "outputs": [
    {
     "name": "stdout",
     "output_type": "stream",
     "text": [
      "Best score : 0.8662979210375739\n",
      "--------------------------\n",
      "Best C : 10\n",
      "Best Max_Iter : 1000\n"
     ]
    }
   ],
   "source": [
    "print(f'Best score : {grid.best_score_}')\n",
    "print('--------------------------')\n",
    "print(f'Best C : {grid.best_estimator_.C}')\n",
    "print(f'Best Max_Iter : {grid.best_estimator_.max_iter}')"
   ]
  },
  {
   "cell_type": "code",
   "execution_count": 59,
   "metadata": {},
   "outputs": [
    {
     "name": "stdout",
     "output_type": "stream",
     "text": [
      "                precision    recall  f1-score   support\n",
      "\n",
      "     CANDIDATE       0.84      0.66      0.74       422\n",
      "     CONFIRMED       0.74      0.85      0.79       450\n",
      "FALSE POSITIVE       0.98      1.00      0.99       876\n",
      "\n",
      "     micro avg       0.88      0.88      0.88      1748\n",
      "     macro avg       0.85      0.84      0.84      1748\n",
      "  weighted avg       0.88      0.88      0.88      1748\n",
      "\n"
     ]
    }
   ],
   "source": [
    "prediction_grid = grid.predict(X_test_new)\n",
    "best_model_classification_report = classification_report(y_test,prediction_grid)\n",
    "print(best_model_classification_report)"
   ]
  },
  {
   "cell_type": "code",
   "execution_count": null,
   "metadata": {},
   "outputs": [],
   "source": [
    "import seaborn as sns\n",
    "from sklearn.metrics import confusion_matrix\n",
    "mat = confusion_matrix(y_test, prediction_grid)\n",
    "sns.heatmap(mat.T, square=True, annot=True, fmt='d', cbar=False,\n",
    "            xticklabels=y.unique(),\n",
    "            yticklabels=y.unique())\n",
    "plt.xlabel('true label')\n",
    "plt.ylabel('predicted label')\n",
    "plt.title('LR Confusion Matrix')\n",
    "plt.savefig('Output/LR_ConfusionMatrix.png')"
   ]
  },
  {
   "cell_type": "code",
   "execution_count": 26,
   "metadata": {},
   "outputs": [
    {
     "name": "stdout",
     "output_type": "stream",
     "text": [
      "Best Model Score : 0.8615560640732265\n"
     ]
    },
    {
     "name": "stderr",
     "output_type": "stream",
     "text": [
      "/Users/morganivey/anaconda3/lib/python3.7/site-packages/sklearn/linear_model/logistic.py:433: FutureWarning: Default solver will be changed to 'lbfgs' in 0.22. Specify a solver to silence this warning.\n",
      "  FutureWarning)\n",
      "/Users/morganivey/anaconda3/lib/python3.7/site-packages/sklearn/linear_model/logistic.py:460: FutureWarning: Default multi_class will be changed to 'auto' in 0.22. Specify the multi_class option to silence this warning.\n",
      "  \"this warning.\", FutureWarning)\n"
     ]
    }
   ],
   "source": [
    "# Train a new classifier using the best parameters found by the grid search\n",
    "best_model = LogisticRegression(C = grid.best_estimator_.C,\n",
    "                max_iter= grid.best_estimator_.max_iter)\n",
    "best_LR_model = best_model.fit(X_train_new, y_train)\n",
    "best_model_score = best_LR_model.score(X_test_new,y_test)\n",
    "print(f'Best Model Score : {best_model_score}')"
   ]
  },
  {
   "cell_type": "code",
   "execution_count": null,
   "metadata": {},
   "outputs": [],
   "source": [
    "# original_model_test_score, original_classification_report\n",
    "# test_score, \n",
    "# feature_selection_classification_report = classification_report(y_test,prediction_rfe,\n",
    "#                             target_names=['CANDIDATE','CONFIRMED','FALSE POSITIVE'])\n",
    "# best_model_score, best_model_classification_report\n"
   ]
  },
  {
   "cell_type": "code",
   "execution_count": 57,
   "metadata": {},
   "outputs": [
    {
     "name": "stdout",
     "output_type": "stream",
     "text": [
      "Percentage Increases:\n",
      "Scaled model to Grid model : 1.2777%\n",
      "Scaled model to Feature Selection model : 0.0672%\n",
      "Feature Selection model to Grid model : 1.2097%\n"
     ]
    },
    {
     "data": {
      "image/png": "[encoded data removed]",
      "text/plain": [
       "<Figure size 576x432 with 1 Axes>"
      ]
     },
     "metadata": {
      "needs_background": "light"
     },
     "output_type": "display_data"
    }
   ],
   "source": [
    "percInc_1 = ((best_model_score-test_score)/test_score)*100\n",
    "percInc_2 = ((test_score-original_model_test_score)/original_model_test_score)*100\n",
    "percInc_3 = ((best_model_score-original_model_test_score)/original_model_test_score)*100\n",
    "print('Percentage Increases:')\n",
    "print(f'Scaled model to Grid model : {round(percInc_3,4)}%')\n",
    "print(f'Scaled model to Feature Selection model : {round(percInc_2,4)}%')\n",
    "print(f'Feature Selection model to Grid model : {round(percInc_1,4)}%')\n",
    "plt.figure(figsize=(8,6))\n",
    "plt.plot([0,1,2],[original_model_test_score, test_score, best_model_score],marker='*',markeredgecolor='red')\n",
    "plt.xticks([0,1,2],labels=['Scaled','Feature Selection','Grid'])\n",
    "plt.xlabel('Model')\n",
    "plt.ylabel('Model Score')\n",
    "plt.title('LR Model Comparison by Testing Data Scores')\n",
    "plt.grid()\n",
    "plt.savefig('Output/LR_ModelComparison_TestingScores.png')"
   ]
  },
  {
   "cell_type": "code",
   "execution_count": 61,
   "metadata": {},
   "outputs": [
    {
     "name": "stdout",
     "output_type": "stream",
     "text": [
      "Classification Reports\n",
      "Scaled:\n",
      "                precision    recall  f1-score   support\n",
      "\n",
      "     CANDIDATE       0.76      0.61      0.68       422\n",
      "     CONFIRMED       0.69      0.79      0.74       450\n",
      "FALSE POSITIVE       0.98      1.00      0.99       876\n",
      "\n",
      "     micro avg       0.85      0.85      0.85      1748\n",
      "     macro avg       0.81      0.80      0.80      1748\n",
      "  weighted avg       0.85      0.85      0.85      1748\n",
      "\n",
      "---------------------------------------------------------\n",
      "Feature Selection\n",
      "                precision    recall  f1-score   support\n",
      "\n",
      "     CANDIDATE       0.76      0.61      0.68       422\n",
      "     CONFIRMED       0.69      0.79      0.74       450\n",
      "FALSE POSITIVE       0.98      1.00      0.99       876\n",
      "\n",
      "     micro avg       0.85      0.85      0.85      1748\n",
      "     macro avg       0.81      0.80      0.80      1748\n",
      "  weighted avg       0.85      0.85      0.85      1748\n",
      "\n",
      "---------------------------------------------------------\n",
      "Grid\n",
      "                precision    recall  f1-score   support\n",
      "\n",
      "     CANDIDATE       0.84      0.66      0.74       422\n",
      "     CONFIRMED       0.74      0.85      0.79       450\n",
      "FALSE POSITIVE       0.98      1.00      0.99       876\n",
      "\n",
      "     micro avg       0.88      0.88      0.88      1748\n",
      "     macro avg       0.85      0.84      0.84      1748\n",
      "  weighted avg       0.88      0.88      0.88      1748\n",
      "\n"
     ]
    }
   ],
   "source": [
    "print('Classification Reports')\n",
    "print('Scaled (MinMaxScaler):')\n",
    "print(original_classification_report)\n",
    "feature_selection_classification_report = classification_report(y_test,prediction_rfe,\n",
    "                            target_names=['CANDIDATE','CONFIRMED','FALSE POSITIVE'])\n",
    "print('---------------------------------------------------------')\n",
    "print('Feature Selection (RFE)')\n",
    "print(feature_selection_classification_report)\n",
    "print('---------------------------------------------------------')\n",
    "print('Grid')\n",
    "print(best_model_classification_report)\n",
    "\n",
    "file = open('Output/LR_classification_report.txt','w')\n",
    "file.write('Classification Reports\\n')\n",
    "file.write('\\nScaled (MinMaxScaler):\\n')\n",
    "file.write(original_classification_report)\n",
    "file.write('\\n---------------------------------------------------------\\n')\n",
    "file.write('Feature Selection (RFE)\\n')\n",
    "file.write(feature_selection_classification_report)\n",
    "file.write('\\n---------------------------------------------------------\\n')\n",
    "file.write('Grid\\n')\n",
    "file.write(best_model_classification_report)\n",
    "file.close()"
   ]
  },
  {
   "cell_type": "markdown",
   "metadata": {},
   "source": [
    "### Save the Model"
   ]
  },
  {
   "cell_type": "code",
   "execution_count": null,
   "metadata": {},
   "outputs": [],
   "source": [
    "import joblib\n",
    "filename = 'morgan_ivey_LR.sav'\n",
    "joblib.dump(best_LR_model, filename)"
   ]
  }
 ],
 "metadata": {
  "kernelspec": {
   "display_name": "Python 3",
   "language": "python",
   "name": "python3"
  },
  "language_info": {
   "codemirror_mode": {
    "name": "ipython",
    "version": 3
   },
   "file_extension": ".py",
   "mimetype": "text/x-python",
   "name": "python",
   "nbconvert_exporter": "python",
   "pygments_lexer": "ipython3",
   "version": "3.7.3"
  }
 },
 "nbformat": 4,
 "nbformat_minor": 2
}
